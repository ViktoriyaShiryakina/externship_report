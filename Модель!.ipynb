{
 "cells": [
  {
   "cell_type": "code",
   "execution_count": 1,
   "metadata": {},
   "outputs": [
    {
     "data": {
      "text/html": [
       "<div>\n",
       "<style scoped>\n",
       "    .dataframe tbody tr th:only-of-type {\n",
       "        vertical-align: middle;\n",
       "    }\n",
       "\n",
       "    .dataframe tbody tr th {\n",
       "        vertical-align: top;\n",
       "    }\n",
       "\n",
       "    .dataframe thead th {\n",
       "        text-align: right;\n",
       "    }\n",
       "</style>\n",
       "<table border=\"1\" class=\"dataframe\">\n",
       "  <thead>\n",
       "    <tr style=\"text-align: right;\">\n",
       "      <th></th>\n",
       "      <th>Eq_TL</th>\n",
       "      <th>Eq_TA</th>\n",
       "      <th>ROE</th>\n",
       "      <th>EBIT_IntEx</th>\n",
       "      <th>S_TA</th>\n",
       "      <th>CFO_OperPr</th>\n",
       "      <th>Comp_age</th>\n",
       "      <th>Corp_group</th>\n",
       "      <th>Courts</th>\n",
       "      <th>Competition</th>\n",
       "      <th>M_founder</th>\n",
       "      <th>Man_change</th>\n",
       "      <th>Unempl_rat</th>\n",
       "      <th>Inf_FedReg</th>\n",
       "      <th>Is_Europe</th>\n",
       "      <th>Is_Asia</th>\n",
       "      <th>Is_service</th>\n",
       "      <th>Is_JointStock</th>\n",
       "      <th>Is_SME</th>\n",
       "      <th>target</th>\n",
       "    </tr>\n",
       "  </thead>\n",
       "  <tbody>\n",
       "    <tr>\n",
       "      <th>0</th>\n",
       "      <td>10.000000</td>\n",
       "      <td>8.465741</td>\n",
       "      <td>4.085654</td>\n",
       "      <td>5.692909</td>\n",
       "      <td>4.467312</td>\n",
       "      <td>6.584224</td>\n",
       "      <td>22.5</td>\n",
       "      <td>1</td>\n",
       "      <td>0</td>\n",
       "      <td>1.0</td>\n",
       "      <td>1</td>\n",
       "      <td>0</td>\n",
       "      <td>1.8</td>\n",
       "      <td>13.70</td>\n",
       "      <td>1</td>\n",
       "      <td>0</td>\n",
       "      <td>0</td>\n",
       "      <td>1</td>\n",
       "      <td>0</td>\n",
       "      <td>0</td>\n",
       "    </tr>\n",
       "    <tr>\n",
       "      <th>1</th>\n",
       "      <td>0.000000</td>\n",
       "      <td>8.273048</td>\n",
       "      <td>4.370627</td>\n",
       "      <td>0.000000</td>\n",
       "      <td>4.272631</td>\n",
       "      <td>5.473580</td>\n",
       "      <td>23.5</td>\n",
       "      <td>1</td>\n",
       "      <td>0</td>\n",
       "      <td>1.0</td>\n",
       "      <td>1</td>\n",
       "      <td>0</td>\n",
       "      <td>1.8</td>\n",
       "      <td>5.90</td>\n",
       "      <td>1</td>\n",
       "      <td>0</td>\n",
       "      <td>0</td>\n",
       "      <td>1</td>\n",
       "      <td>0</td>\n",
       "      <td>0</td>\n",
       "    </tr>\n",
       "    <tr>\n",
       "      <th>2</th>\n",
       "      <td>0.000000</td>\n",
       "      <td>6.812008</td>\n",
       "      <td>2.874080</td>\n",
       "      <td>0.000000</td>\n",
       "      <td>3.777847</td>\n",
       "      <td>3.647116</td>\n",
       "      <td>24.5</td>\n",
       "      <td>1</td>\n",
       "      <td>0</td>\n",
       "      <td>1.0</td>\n",
       "      <td>1</td>\n",
       "      <td>0</td>\n",
       "      <td>1.4</td>\n",
       "      <td>3.18</td>\n",
       "      <td>1</td>\n",
       "      <td>0</td>\n",
       "      <td>0</td>\n",
       "      <td>1</td>\n",
       "      <td>0</td>\n",
       "      <td>0</td>\n",
       "    </tr>\n",
       "    <tr>\n",
       "      <th>3</th>\n",
       "      <td>10.000000</td>\n",
       "      <td>6.803930</td>\n",
       "      <td>4.852327</td>\n",
       "      <td>10.000000</td>\n",
       "      <td>3.817546</td>\n",
       "      <td>5.326694</td>\n",
       "      <td>25.5</td>\n",
       "      <td>1</td>\n",
       "      <td>1</td>\n",
       "      <td>1.0</td>\n",
       "      <td>1</td>\n",
       "      <td>0</td>\n",
       "      <td>1.2</td>\n",
       "      <td>4.70</td>\n",
       "      <td>1</td>\n",
       "      <td>0</td>\n",
       "      <td>0</td>\n",
       "      <td>1</td>\n",
       "      <td>0</td>\n",
       "      <td>0</td>\n",
       "    </tr>\n",
       "    <tr>\n",
       "      <th>4</th>\n",
       "      <td>4.975702</td>\n",
       "      <td>4.385216</td>\n",
       "      <td>3.262918</td>\n",
       "      <td>3.565572</td>\n",
       "      <td>3.180172</td>\n",
       "      <td>0.000000</td>\n",
       "      <td>26.5</td>\n",
       "      <td>1</td>\n",
       "      <td>0</td>\n",
       "      <td>1.0</td>\n",
       "      <td>1</td>\n",
       "      <td>0</td>\n",
       "      <td>1.6</td>\n",
       "      <td>3.00</td>\n",
       "      <td>1</td>\n",
       "      <td>0</td>\n",
       "      <td>0</td>\n",
       "      <td>1</td>\n",
       "      <td>0</td>\n",
       "      <td>0</td>\n",
       "    </tr>\n",
       "  </tbody>\n",
       "</table>\n",
       "</div>"
      ],
      "text/plain": [
       "       Eq_TL     Eq_TA       ROE  EBIT_IntEx      S_TA  CFO_OperPr  Comp_age  \\\n",
       "0  10.000000  8.465741  4.085654    5.692909  4.467312    6.584224      22.5   \n",
       "1   0.000000  8.273048  4.370627    0.000000  4.272631    5.473580      23.5   \n",
       "2   0.000000  6.812008  2.874080    0.000000  3.777847    3.647116      24.5   \n",
       "3  10.000000  6.803930  4.852327   10.000000  3.817546    5.326694      25.5   \n",
       "4   4.975702  4.385216  3.262918    3.565572  3.180172    0.000000      26.5   \n",
       "\n",
       "   Corp_group  Courts  Competition  M_founder  Man_change  Unempl_rat  \\\n",
       "0           1       0          1.0          1           0         1.8   \n",
       "1           1       0          1.0          1           0         1.8   \n",
       "2           1       0          1.0          1           0         1.4   \n",
       "3           1       1          1.0          1           0         1.2   \n",
       "4           1       0          1.0          1           0         1.6   \n",
       "\n",
       "   Inf_FedReg  Is_Europe  Is_Asia  Is_service  Is_JointStock  Is_SME  target  \n",
       "0       13.70          1        0           0              1       0       0  \n",
       "1        5.90          1        0           0              1       0       0  \n",
       "2        3.18          1        0           0              1       0       0  \n",
       "3        4.70          1        0           0              1       0       0  \n",
       "4        3.00          1        0           0              1       0       0  "
      ]
     },
     "execution_count": 1,
     "metadata": {},
     "output_type": "execute_result"
    }
   ],
   "source": [
    "import pandas as pd\n",
    "import matplotlib.pyplot as plt\n",
    "import numpy as np\n",
    "from sklearn.model_selection import train_test_split\n",
    "import numpy\n",
    "\n",
    "ini_data = pd.ExcelFile('Model_data.xlsx')\n",
    "df = ini_data.parse('Model_v2 (2)')\n",
    "df.head()"
   ]
  },
  {
   "cell_type": "code",
   "execution_count": 2,
   "metadata": {},
   "outputs": [],
   "source": [
    "x = df.drop('target', axis=1)\n",
    "y = df['target']"
   ]
  },
  {
   "cell_type": "code",
   "execution_count": 3,
   "metadata": {},
   "outputs": [
    {
     "name": "stdout",
     "output_type": "stream",
     "text": [
      "Optimization terminated successfully.\n",
      "         Current function value: 0.290413\n",
      "         Iterations 8\n",
      "                          Results: Logit\n",
      "==================================================================\n",
      "Model:              Logit            Pseudo R-squared: 0.535      \n",
      "Dependent Variable: target           AIC:              552.0311   \n",
      "Date:               2021-03-26 00:59 BIC:              642.9573   \n",
      "No. Observations:   885              Log-Likelihood:   -257.02    \n",
      "Df Model:           18               LL-Null:          -552.34    \n",
      "Df Residuals:       866              LLR p-value:      8.1409e-114\n",
      "Converged:          1.0000           Scale:            1.0000     \n",
      "No. Iterations:     8.0000                                        \n",
      "------------------------------------------------------------------\n",
      "                   Coef.  Std.Err.    z     P>|z|   [0.025  0.975]\n",
      "------------------------------------------------------------------\n",
      "Eq_TL             -0.0121   0.0481  -0.2516 0.8013 -0.1064  0.0822\n",
      "Eq_TA             -0.6810   0.0636 -10.7124 0.0000 -0.8056 -0.5564\n",
      "ROE               -0.0872   0.0460  -1.8945 0.0582 -0.1775  0.0030\n",
      "EBIT_IntEx        -0.0945   0.0500  -1.8916 0.0586 -0.1925  0.0034\n",
      "S_TA              -0.2589   0.0554  -4.6707 0.0000 -0.3675 -0.1502\n",
      "CFO_OperPr         0.0518   0.0468   1.1082 0.2678 -0.0398  0.1435\n",
      "Comp_age          -0.0506   0.0200  -2.5319 0.0113 -0.0898 -0.0114\n",
      "Corp_group        -1.4895   0.2658  -5.6047 0.0000 -2.0104 -0.9686\n",
      "Courts             0.8895   0.2540   3.5024 0.0005  0.3917  1.3872\n",
      "Competition        0.0331   0.0680   0.4865 0.6266 -0.1001  0.1663\n",
      "M_founder          2.9293   0.5911   4.9559 0.0000  1.7708  4.0878\n",
      "Man_change         1.6272   1.3334   1.2203 0.2223 -0.9862  4.2407\n",
      "Unempl_rat         0.1540   0.0531   2.8974 0.0038  0.0498  0.2581\n",
      "Inf_FedReg         0.0637   0.0300   2.1256 0.0335  0.0050  0.1225\n",
      "Is_Europe         -0.2023   0.2974  -0.6802 0.4964 -0.7852  0.3806\n",
      "Is_Asia           -0.0251   0.4352  -0.0577 0.9540 -0.8782  0.8280\n",
      "Is_service        -0.4683   0.2852  -1.6417 0.1006 -1.0273  0.0908\n",
      "Is_JointStock      0.2277   0.3033   0.7506 0.4529 -0.3668  0.8222\n",
      "Is_SME             2.5338   0.2682   9.4485 0.0000  2.0082  3.0594\n",
      "==================================================================\n",
      "\n"
     ]
    }
   ],
   "source": [
    "#Реализация модели\n",
    "import statsmodels.api as sm\n",
    "logit_model=sm.Logit(y,x)\n",
    "result=logit_model.fit()\n",
    "print(result.summary2())"
   ]
  },
  {
   "cell_type": "code",
   "execution_count": 6,
   "metadata": {},
   "outputs": [],
   "source": [
    "#оставляем только значимые переменные\n",
    "cols = ['Eq_TA', 'ROE', 'EBIT_IntEx', 'S_TA', 'Comp_age', 'Corp_group', 'Courts', 'M_founder', 'Unempl_rat',\\\n",
    "        'Inf_FedReg', 'Is_SME']\n",
    "x = df[cols]\n",
    "y = df['target']"
   ]
  },
  {
   "cell_type": "code",
   "execution_count": 7,
   "metadata": {},
   "outputs": [
    {
     "name": "stdout",
     "output_type": "stream",
     "text": [
      "Optimization terminated successfully.\n",
      "         Current function value: 0.293926\n",
      "         Iterations 8\n",
      "                          Results: Logit\n",
      "==================================================================\n",
      "Model:              Logit            Pseudo R-squared: 0.529      \n",
      "Dependent Variable: target           AIC:              542.2488   \n",
      "Date:               2021-03-26 01:00 BIC:              594.8903   \n",
      "No. Observations:   885              Log-Likelihood:   -260.12    \n",
      "Df Model:           10               LL-Null:          -552.34    \n",
      "Df Residuals:       874              LLR p-value:      3.8074e-119\n",
      "Converged:          1.0000           Scale:            1.0000     \n",
      "No. Iterations:     8.0000                                        \n",
      "-------------------------------------------------------------------\n",
      "               Coef.   Std.Err.     z      P>|z|    [0.025   0.975]\n",
      "-------------------------------------------------------------------\n",
      "Eq_TA         -0.6807    0.0598  -11.3757  0.0000  -0.7980  -0.5634\n",
      "ROE           -0.0859    0.0446   -1.9254  0.0542  -0.1734   0.0015\n",
      "EBIT_IntEx    -0.1196    0.0442   -2.7042  0.0068  -0.2062  -0.0329\n",
      "S_TA          -0.2392    0.0517   -4.6265  0.0000  -0.3406  -0.1379\n",
      "Comp_age      -0.0480    0.0177   -2.7126  0.0067  -0.0827  -0.0133\n",
      "Corp_group    -1.3765    0.2578   -5.3397  0.0000  -1.8818  -0.8713\n",
      "Courts         0.8680    0.2457    3.5335  0.0004   0.3866   1.3495\n",
      "M_founder      2.8369    0.5498    5.1597  0.0000   1.7593   3.9145\n",
      "Unempl_rat     0.1506    0.0453    3.3203  0.0009   0.0617   0.2394\n",
      "Inf_FedReg     0.0621    0.0296    2.0968  0.0360   0.0041   0.1201\n",
      "Is_SME         2.4673    0.2560    9.6387  0.0000   1.9656   2.9691\n",
      "==================================================================\n",
      "\n"
     ]
    }
   ],
   "source": [
    "#прогоняем модель еще раз и убеждаемся, что все переменные значимы\n",
    "logit_model=sm.Logit(y,x)\n",
    "result=logit_model.fit()\n",
    "print(result.summary2())"
   ]
  },
  {
   "cell_type": "code",
   "execution_count": 8,
   "metadata": {},
   "outputs": [
    {
     "name": "stderr",
     "output_type": "stream",
     "text": [
      "C:\\Users\\USER\\Anaconda3\\lib\\site-packages\\sklearn\\linear_model\\logistic.py:432: FutureWarning: Default solver will be changed to 'lbfgs' in 0.22. Specify a solver to silence this warning.\n",
      "  FutureWarning)\n"
     ]
    },
    {
     "data": {
      "text/plain": [
       "LogisticRegression(C=1.0, class_weight=None, dual=False, fit_intercept=True,\n",
       "                   intercept_scaling=1, l1_ratio=None, max_iter=100,\n",
       "                   multi_class='warn', n_jobs=None, penalty='l2',\n",
       "                   random_state=None, solver='warn', tol=0.0001, verbose=0,\n",
       "                   warm_start=False)"
      ]
     },
     "execution_count": 8,
     "metadata": {},
     "output_type": "execute_result"
    }
   ],
   "source": [
    "from sklearn.linear_model import LogisticRegression\n",
    "from sklearn import metrics\n",
    "x_train, x_test, y_train, y_test = train_test_split(x, y, test_size=0.3, random_state=0)\n",
    "\n",
    "#standardizing the data - НОРМАЛИЗАЦИЯ СИЛЬНО СНИЖАЕТ AR\n",
    "#scaler = StandardScaler()\n",
    "#x_train = scaler.fit_transform(x_train)\n",
    "#x_test = scaler.transform(x_test)\n",
    "\n",
    "logreg = LogisticRegression()\n",
    "#logreg = LogisticRegression(solver='liblinear', C=0.05, multi_class='ovr',\n",
    "#                           random_state=0)\n",
    "logreg.fit(x_train, y_train)"
   ]
  },
  {
   "cell_type": "code",
   "execution_count": 9,
   "metadata": {},
   "outputs": [
    {
     "name": "stdout",
     "output_type": "stream",
     "text": [
      "Accuracy of logistic regression classifier on test set: 0.86\n"
     ]
    }
   ],
   "source": [
    "y_pred = logreg.predict(x_test)\n",
    "print('Accuracy of logistic regression classifier on test set: {:.2f}'.format(logreg.score(x_test, y_test)))"
   ]
  },
  {
   "cell_type": "code",
   "execution_count": 10,
   "metadata": {},
   "outputs": [
    {
     "name": "stdout",
     "output_type": "stream",
     "text": [
      "[[169  10]\n",
      " [ 27  60]]\n"
     ]
    }
   ],
   "source": [
    "#Матрица ошибок\n",
    "from sklearn.metrics import confusion_matrix\n",
    "confusion_matrix = confusion_matrix(y_test, y_pred)\n",
    "print(confusion_matrix)"
   ]
  },
  {
   "cell_type": "code",
   "execution_count": 11,
   "metadata": {},
   "outputs": [
    {
     "name": "stdout",
     "output_type": "stream",
     "text": [
      "              precision    recall  f1-score   support\n",
      "\n",
      "           0       0.86      0.94      0.90       179\n",
      "           1       0.86      0.69      0.76        87\n",
      "\n",
      "    accuracy                           0.86       266\n",
      "   macro avg       0.86      0.82      0.83       266\n",
      "weighted avg       0.86      0.86      0.86       266\n",
      "\n"
     ]
    }
   ],
   "source": [
    "from sklearn.metrics import classification_report\n",
    "print(classification_report(y_test, y_pred))"
   ]
  },
  {
   "cell_type": "code",
   "execution_count": 12,
   "metadata": {},
   "outputs": [
    {
     "name": "stderr",
     "output_type": "stream",
     "text": [
      "C:\\Users\\USER\\Anaconda3\\lib\\site-packages\\sklearn\\linear_model\\logistic.py:432: FutureWarning: Default solver will be changed to 'lbfgs' in 0.22. Specify a solver to silence this warning.\n",
      "  FutureWarning)\n",
      "C:\\Users\\USER\\Anaconda3\\lib\\site-packages\\sklearn\\linear_model\\logistic.py:432: FutureWarning: Default solver will be changed to 'lbfgs' in 0.22. Specify a solver to silence this warning.\n",
      "  FutureWarning)\n",
      "C:\\Users\\USER\\Anaconda3\\lib\\site-packages\\sklearn\\linear_model\\logistic.py:432: FutureWarning: Default solver will be changed to 'lbfgs' in 0.22. Specify a solver to silence this warning.\n",
      "  FutureWarning)\n",
      "C:\\Users\\USER\\Anaconda3\\lib\\site-packages\\sklearn\\linear_model\\logistic.py:432: FutureWarning: Default solver will be changed to 'lbfgs' in 0.22. Specify a solver to silence this warning.\n",
      "  FutureWarning)\n",
      "C:\\Users\\USER\\Anaconda3\\lib\\site-packages\\sklearn\\linear_model\\logistic.py:432: FutureWarning: Default solver will be changed to 'lbfgs' in 0.22. Specify a solver to silence this warning.\n",
      "  FutureWarning)\n"
     ]
    },
    {
     "data": {
      "text/plain": [
       "array([0.824     , 0.87096774, 0.83064516, 0.83739837, 0.91869919])"
      ]
     },
     "execution_count": 12,
     "metadata": {},
     "output_type": "execute_result"
    }
   ],
   "source": [
    "#cross validation scores\n",
    "from sklearn.model_selection import cross_val_score\n",
    "scores = cross_val_score(logreg, x_train, y_train, cv=5)\n",
    "scores"
   ]
  },
  {
   "cell_type": "code",
   "execution_count": 13,
   "metadata": {},
   "outputs": [
    {
     "data": {
      "image/png": "[encoded data removed]",
      "text/plain": [
       "<Figure size 432x288 with 1 Axes>"
      ]
     },
     "metadata": {
      "needs_background": "light"
     },
     "output_type": "display_data"
    }
   ],
   "source": [
    "from sklearn.metrics import roc_auc_score\n",
    "from sklearn.metrics import roc_curve\n",
    "logit_roc_auc = roc_auc_score(y_test, logreg.predict(x_test))\n",
    "fpr, tpr, thresholds = roc_curve(y_test, logreg.predict_proba(x_test)[:,1])\n",
    "plt.figure()\n",
    "plt.plot(fpr, tpr, label='Logistic Regression (area = %0.2f)' % logit_roc_auc)\n",
    "plt.plot([0, 1], [0, 1],'r--')\n",
    "plt.xlim([0.0, 1.0])\n",
    "plt.ylim([0.0, 1.05])\n",
    "plt.xlabel('False Positive Rate')\n",
    "plt.ylabel('True Positive Rate')\n",
    "plt.title('Receiver operating characteristic')\n",
    "plt.legend(loc=\"lower right\")\n",
    "plt.savefig('Log_ROC')\n",
    "plt.show()"
   ]
  },
  {
   "cell_type": "code",
   "execution_count": null,
   "metadata": {},
   "outputs": [],
   "source": []
  }
 ],
 "metadata": {
  "kernelspec": {
   "display_name": "Python 3",
   "language": "python",
   "name": "python3"
  },
  "language_info": {
   "codemirror_mode": {
    "name": "ipython",
    "version": 3
   },
   "file_extension": ".py",
   "mimetype": "text/x-python",
   "name": "python",
   "nbconvert_exporter": "python",
   "pygments_lexer": "ipython3",
   "version": "3.7.3"
  }
 },
 "nbformat": 4,
 "nbformat_minor": 2
}
